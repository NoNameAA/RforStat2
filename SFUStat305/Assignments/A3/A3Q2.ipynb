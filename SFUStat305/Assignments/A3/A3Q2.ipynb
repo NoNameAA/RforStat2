{
 "cells": [
  {
   "cell_type": "markdown",
   "metadata": {},
   "source": [
    "---\n",
    "title: \"Assignment 3, Question 2\"\n",
    "author: \"Your Name Here; Your Student ID number Here\"\n",
    "date: 'Put date here in YYYY-MM-DD format'\n",
    "output: html_document\n",
    "---"
   ]
  },
  {
   "cell_type": "code",
   "execution_count": null,
   "metadata": {
    "attributes": {
     "classes": [],
     "id": "",
     "include": "FALSE"
    }
   },
   "outputs": [],
   "source": [
    "knitr::opts_chunk$set(echo = TRUE)"
   ]
  },
  {
   "cell_type": "markdown",
   "metadata": {},
   "source": [
    "Use the dataset on babies with low birthweight from the previous question. \n",
    "We will use `ggplot()` to create a scatterplot of systolic blood pressure versus gestational age with different colours for male and female babies. \n",
    "\n",
    "In the R code chunk below, we first change the numeric variable `sex`\n",
    "in the dataframe to a categorical variable or factor variable, `sexCateg`, with the `mutate()` function. The categorical \n",
    "`sexCateg` variable is then used to specify colors in `ggplot()`."
   ]
  },
  {
   "cell_type": "code",
   "execution_count": null,
   "metadata": {},
   "outputs": [],
   "source": [
    "%%R\n",
    "uu <- url(\"http://people.stat.sfu.ca/~jgraham/Teaching/S305_18/Data/lowbwt.csv\")\n",
    "lowbwt <- read.csv(uu)\n",
    "library(dplyr)\n",
    "lowbwt <- mutate(lowbwt, sexCateg=factor(sex))\n",
    "head(lowbwt)\n",
    "library(ggplot2)\n",
    "ggplot(lowbwt,aes(x=gestage,y=sbp,color=sexCateg)) +\n",
    "  geom_point()"
   ]
  },
  {
   "cell_type": "markdown",
   "metadata": {},
   "source": [
    "(a)\tIn the following code chunk we add fitted least-squares-regression lines for each group defined by the gender of the babies. Do the slopes of these fitted lines look similar or different (no testing necessary)?"
   ]
  },
  {
   "cell_type": "code",
   "execution_count": null,
   "metadata": {},
   "outputs": [],
   "source": [
    "%%R\n",
    "ggplot(lowbwt,aes(x=gestage,y=sbp,color=sexCateg)) +\n",
    "  geom_point() + geom_smooth(method=\"lm\",se=FALSE)"
   ]
  },
  {
   "cell_type": "markdown",
   "metadata": {},
   "source": [
    "**Answer:**\n",
    "*Insert your written comments here.*\n",
    "\n",
    "(b) Fit a multiple-linear-regression model of mean systolic blood pressure that includes main effects for gestational age, sex and statistical interaction between gestational age and sex. Test the hypothesis of no statistical interaction at the 5% level and report your conclusion.\n",
    "\n",
    "**Answer:**"
   ]
  },
  {
   "cell_type": "code",
   "execution_count": null,
   "metadata": {},
   "outputs": [],
   "source": [
    "%%R\n",
    "# Add your R commands here.  "
   ]
  },
  {
   "cell_type": "markdown",
   "metadata": {},
   "source": [
    "*Insert your written comments here.*\n",
    "\n",
    "(c) Fit a multiple-linear-regression model of the mean systolic blood pressure that includes main effects for gestational age and sex. Interpret the estimated sex effect (i.e. the slope term for sex).\n",
    "\n",
    "**Answer:**"
   ]
  },
  {
   "cell_type": "code",
   "execution_count": null,
   "metadata": {},
   "outputs": [],
   "source": [
    "%%R\n",
    "# Add your R commands here.  "
   ]
  },
  {
   "cell_type": "markdown",
   "metadata": {},
   "source": [
    "*Insert your written comments here.*\n",
    "\n",
    "(d) Does sex confound the relationship between gestational age and systolic blood pressure? Use the 10% rule-of-thumb from class.\n",
    "\n",
    "**Answer:**"
   ]
  },
  {
   "cell_type": "code",
   "execution_count": null,
   "metadata": {},
   "outputs": [],
   "source": [
    "%%R\n",
    "# Add your R commands here.  "
   ]
  },
  {
   "cell_type": "markdown",
   "metadata": {},
   "source": [
    "*Insert your written comments here.*"
   ]
  }
 ],
 "metadata": {},
 "nbformat": 4,
 "nbformat_minor": 0
}
