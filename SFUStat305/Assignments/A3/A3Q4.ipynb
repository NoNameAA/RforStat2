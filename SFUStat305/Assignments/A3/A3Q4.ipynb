{
 "cells": [
  {
   "cell_type": "markdown",
   "metadata": {},
   "source": [
    "---\n",
    "title: \"Assignment 3, Question 4\"\n",
    "author: \"NOT TO BE HANDED IN (for practice only)\"\n",
    "output: html_document\n",
    "---"
   ]
  },
  {
   "cell_type": "code",
   "execution_count": null,
   "metadata": {
    "attributes": {
     "classes": [],
     "id": "",
     "include": "FALSE"
    }
   },
   "outputs": [],
   "source": [
    "knitr::opts_chunk$set(echo = TRUE)"
   ]
  },
  {
   "cell_type": "markdown",
   "metadata": {},
   "source": [
    "Use the dataset on babies with low birthweight from the\n",
    "first two questions:"
   ]
  },
  {
   "cell_type": "code",
   "execution_count": null,
   "metadata": {},
   "outputs": [],
   "source": [
    "%%R\n",
    "uu <- url(\"http://people.stat.sfu.ca/~jgraham/Teaching/S305_18/Data/lowbwt.csv\")\n",
    "lowbwt <- read.csv(uu)\n",
    "head(lowbwt)"
   ]
  },
  {
   "cell_type": "markdown",
   "metadata": {},
   "source": [
    "In this problem, use germinal-matrix hemorrhage (`grmhem`) as the response variable and five-minute apgar score (`apgar5`)\n",
    "as an explanatory variable. Note that apgar is a score without any real units. Where necessary you may refer to apgar score in terms of “points” (e.g., a one point increase). Report R output and perform your calculations using three significant digits.\n",
    "\n",
    "a)\tFit a logistic-regression model for the log odds of germinal-matrix hemorrhage that includes main effects for five-minute apgar score (`apgar5`) and toxemia (`tox`), and statistical interaction between these two variables. You’re asked whether or not toxemia modifies the effect of the apgar score on the odds of \n",
    "germinal-matrix hemorrhage? Answer this question using a statistical test with significance level 5\\% and explain your response.\n",
    "\n",
    "**Answer:**"
   ]
  },
  {
   "cell_type": "code",
   "execution_count": null,
   "metadata": {},
   "outputs": [],
   "source": [
    "%%R\n",
    "# Add your R commands here.  "
   ]
  },
  {
   "cell_type": "markdown",
   "metadata": {},
   "source": [
    "*Insert your written comments here.*\n",
    "\n",
    "b)\tAssess whether or not toxemia confounds the effect of five-minute apgar score on the odds of germinal-matrix hemorrhage using the rule-of-thumb based on the 10%-change discussed in the notes.\n",
    "\n",
    "**Answer:**"
   ]
  },
  {
   "cell_type": "code",
   "execution_count": null,
   "metadata": {},
   "outputs": [],
   "source": [
    "%%R\n",
    "# Add your R commands here.  "
   ]
  },
  {
   "cell_type": "markdown",
   "metadata": {},
   "source": [
    "*Insert your written comments here.*\n",
    "\n",
    "c)\tIn light of parts (a) and (b), is it necessary to adjust for toxemia if we are interested in the effect of five-minute apgar score on germinal-matrix hemorrhage? Justify your answer. Based on your answer, fit an appropriate model and report the point estimate of the effect of the five-minute apgar score. (Note: Don’t bother to interpret this point estimate; instead, you will be asked to interpret the interval estimate in part (d) below.)\n",
    "\n",
    "**Answer:**"
   ]
  },
  {
   "cell_type": "code",
   "execution_count": null,
   "metadata": {},
   "outputs": [],
   "source": [
    "%%R\n",
    "# Add your R commands here.  "
   ]
  },
  {
   "cell_type": "markdown",
   "metadata": {},
   "source": [
    "*Insert your written comments here.*\n",
    "\n",
    "d)\tUse R to construct a 95% CI for the slope coefficient describing the effect of the five-minute apgar score in the logistic-regression model fitted in part (c). Report this interval on the log-odds scale, and also transform the CI to the odds scale. Interpret the interval on the odds scale. \n",
    "\n",
    "**Answer:**"
   ]
  },
  {
   "cell_type": "code",
   "execution_count": null,
   "metadata": {},
   "outputs": [],
   "source": [
    "%%R\n",
    "# Add your R commands here.  "
   ]
  },
  {
   "cell_type": "markdown",
   "metadata": {},
   "source": [
    "*Insert your written comments here.*"
   ]
  }
 ],
 "metadata": {},
 "nbformat": 4,
 "nbformat_minor": 0
}
