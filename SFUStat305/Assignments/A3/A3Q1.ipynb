{
 "cells": [
  {
   "cell_type": "markdown",
   "metadata": {},
   "source": [
    "---\n",
    "title: \"Assignment 3, Question 1\"\n",
    "author: \"Your Name Here; Your Student ID number Here\"\n",
    "date: 'Put date here in YYYY-MM-DD format'\n",
    "output: html_document\n",
    "---"
   ]
  },
  {
   "cell_type": "code",
   "execution_count": null,
   "metadata": {
    "attributes": {
     "classes": [],
     "id": "",
     "include": "FALSE"
    }
   },
   "outputs": [],
   "source": [
    "knitr::opts_chunk$set(echo = TRUE)"
   ]
  },
  {
   "cell_type": "markdown",
   "metadata": {},
   "source": [
    "Chapter 19, #8, parts (a)-(f), plus extra questions (g)\n",
    "and (h) below.  \n",
    "For the population of low birth weight infants, \n",
    "a significant linear relationship was\n",
    "found to exist between systolic blood pressure, in millimetres\n",
    "mercury (mmHg), and gestational age. The\n",
    "relevant data are in the file `lowbwt.csv` that is\n",
    "read in by the R code chunk below.\n",
    "The measurements of systolic blood pressure are saved \n",
    "under the variable name `sbp`, and\n",
    "corresponding gestational ages under `gestage`. \n",
    "Also contained in the data set is `apgar5`, \n",
    "the five-minute apgar score for each infant. \n",
    "(The apgar score is an indicator of a child's \n",
    "general state of health five minutes after it is \n",
    "born; although actually an ordinal measurement, \n",
    "it is often treated as if it were continuous.)\n",
    "\n",
    "Report numerical answers to 3-4 significant digits."
   ]
  },
  {
   "cell_type": "code",
   "execution_count": null,
   "metadata": {},
   "outputs": [],
   "source": [
    "%%R\n",
    "uu <- url(\"http://people.stat.sfu.ca/~jgraham/Teaching/S305_18/Data/lowbwt.csv\")\n",
    "lowbwt <- read.csv(uu) # Note: this is not the same dataset used in lectures\n",
    "head(lowbwt)"
   ]
  },
  {
   "cell_type": "markdown",
   "metadata": {},
   "source": [
    "(a) Construct a two-way scatter plot of systolic blood\n",
    "pressure *versus* five-minute apgar score. Does \n",
    "there appear to be a linear relationship between \n",
    "these two variables?\n",
    "\n",
    "**Answer:**"
   ]
  },
  {
   "cell_type": "code",
   "execution_count": null,
   "metadata": {},
   "outputs": [],
   "source": [
    "%%R\n",
    "library(ggplot2)\n",
    "# Add your R commands here.  "
   ]
  },
  {
   "cell_type": "markdown",
   "metadata": {},
   "source": [
    "*Insert your written comments here.*\n",
    "\n",
    "(b) Using systolic blood pressure as the response and \n",
    "gestational age and apgar\n",
    "score as the explanatory variables, fit the \n",
    "least-squares model\n",
    "$$\n",
    "\\hat{y} = a+ \\hat{\\beta}_1 x_1 + \\hat{\\beta}_2 x_2.\n",
    "$$\n",
    "Interpret $\\hat{\\beta}_1$, the estimated coefficient of gestational age. What does it mean in\n",
    "words? Similarly, interpret $\\hat{\\beta}_2$, \n",
    "the estimated coefficient of five-minute apgar\n",
    "score.\n",
    "\n",
    "**Answer:**"
   ]
  },
  {
   "cell_type": "code",
   "execution_count": null,
   "metadata": {},
   "outputs": [],
   "source": [
    "%%R\n",
    "# Add your R commands here.  "
   ]
  },
  {
   "cell_type": "markdown",
   "metadata": {},
   "source": [
    "*Insert your written comments here.*\n",
    "\n",
    "\n",
    "(c) What is the estimated mean systolic blood pressure \n",
    "for the population of low\n",
    "birth weight infants whose gestational age is 31 weeks \n",
    "and whose five-minute\n",
    "apgar score is 7?\n",
    "\n",
    "**Answer:**"
   ]
  },
  {
   "cell_type": "code",
   "execution_count": null,
   "metadata": {},
   "outputs": [],
   "source": [
    "%%R\n",
    "# Add your R commands here.  "
   ]
  },
  {
   "cell_type": "markdown",
   "metadata": {},
   "source": [
    "*Insert your written comments here.*\n",
    "\n",
    "(d) Construct a 95% confidence interval for the true \n",
    "mean value of systolic blood\n",
    "pressure when gestational age is $x_1 = 31$ weeks and the apgar score is $x_2 = 7$.\n",
    "\n",
    "**Answer:**"
   ]
  },
  {
   "cell_type": "code",
   "execution_count": null,
   "metadata": {},
   "outputs": [],
   "source": [
    "%%R\n",
    "# Add your R commands here.  "
   ]
  },
  {
   "cell_type": "markdown",
   "metadata": {},
   "source": [
    "*Insert your written comments here.*\n",
    "\n",
    "\n",
    "(e) Test the null hypothesis\n",
    "$$\n",
    "H_0 : \\beta_2 = 0\n",
    "$$\n",
    "at the 0.05 level of significance. What do you conclude?\n",
    "\n",
    "**Answer:**\n",
    "*Insert your written comments here.*\n",
    "\n",
    "(f) Comment on the magnitude of $R^2$. \n",
    "Does the inclusion of five-minute apgar\n",
    "score in the model already containing \n",
    "gestational age appear to greatly improve the ability to\n",
    "predict systolic blood pressure? \n",
    "\n",
    "**Answer:**\n",
    "*Insert your written comments here.*\n",
    "\n",
    "**Answer:**"
   ]
  },
  {
   "cell_type": "code",
   "execution_count": null,
   "metadata": {},
   "outputs": [],
   "source": [
    "%%R\n",
    "# Add your R commands here.  "
   ]
  },
  {
   "cell_type": "markdown",
   "metadata": {},
   "source": [
    "*Insert your written comments here.*\n",
    "\n",
    "\n",
    "(g) Construct a plot of the residuals versus the fitted values of systolic blood pressure. From this plot, are there any obvious problems with how the linear predictor has been specified and or with the assumption of constant SD for the random errors? \n",
    "\n",
    "**Answer:**"
   ]
  },
  {
   "cell_type": "code",
   "execution_count": null,
   "metadata": {},
   "outputs": [],
   "source": [
    "%%R\n",
    "# Add your R commands here.  "
   ]
  },
  {
   "cell_type": "markdown",
   "metadata": {},
   "source": [
    "*Insert your written comments here.*\n",
    "\n",
    "(h) From the Normal QQ plot of the standardized residuals, does the assumption of normal random errors appear plausible?  Based on the standardized residuals, are there any infants you would describe as obvious outliers? If so, what are their case numbers?\n",
    "\n",
    "**Answer:**"
   ]
  },
  {
   "cell_type": "code",
   "execution_count": null,
   "metadata": {},
   "outputs": [],
   "source": [
    "%%R\n",
    "# Add your R commands here.  "
   ]
  },
  {
   "cell_type": "markdown",
   "metadata": {},
   "source": [
    "*Insert your written comments here.*"
   ]
  }
 ],
 "metadata": {},
 "nbformat": 4,
 "nbformat_minor": 0
}
