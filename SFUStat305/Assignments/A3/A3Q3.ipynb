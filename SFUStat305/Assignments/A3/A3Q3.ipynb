{
 "cells": [
  {
   "cell_type": "markdown",
   "metadata": {},
   "source": [
    "---\n",
    "title: \"Assignment 3, Question 3\"\n",
    "author: \"Your Name Here; Your Student ID number Here\"\n",
    "date: 'Put date here in YYYY-MM-DD format'\n",
    "output: html_document\n",
    "---"
   ]
  },
  {
   "cell_type": "code",
   "execution_count": null,
   "metadata": {
    "attributes": {
     "classes": [],
     "id": "",
     "include": "FALSE"
    }
   },
   "outputs": [],
   "source": [
    "knitr::opts_chunk$set(echo = TRUE)"
   ]
  },
  {
   "cell_type": "markdown",
   "metadata": {},
   "source": [
    "Chapter 20, #5 (modified). \n",
    "In a study investigating maternal risk factors for congenital\n",
    "syphilis, syphilis is treated as a dichotomous response variable,\n",
    "where 1 represents the presence of disease in a \n",
    "newborn and 0 its absence.\n",
    "(Note: Syphilis can be spread from an infected mother to the fetus during pregnancy or to the infant at birth. When born, the infant has congenital syphilis.)\n",
    "The estimated coefficients from a logistic-regression model \n",
    "containing the explanatory variables of cocaine or crack use,\n",
    "marital status, number of prenatal visits to a doctor,\n",
    "alcohol use, and level of education are listed below.\n",
    "The estimated intercept $\\hat{\\alpha}$ is not given.\n",
    "\n",
    "| Variable                  | Coefficient  |\n",
    "| ------------------------- | -----------: |\n",
    "| Cocaine/Crack Use         | $1.354$      |\n",
    "| Marital Status            | $0.779$      |\n",
    "| Number of Prenatal Visits | $-0.098$     |\n",
    "| Alcohol Use               | $0.723$      |\n",
    "| Level of Education        | $0.298$      |\n",
    "\n",
    "Report numerical answers to 3-4 significant digits.\n",
    "\n",
    "\n",
    "(a)\tAs an expectant mother's number of prenatal\n",
    "visits to the doctor increases, what happens to \n",
    "the probability that her child will be born with\n",
    "congenital syphilis?\n",
    "\n",
    "**Answer:**\n",
    "*Insert your written comments here.*\n",
    "\n",
    "(b) Marital status is a dichotomous random variable,\n",
    "where the value 1 indicates that a woman is unmarried\n",
    "and 0 that she is married. What are the relative odds\n",
    "that a newborn will suffer from syphilis for unmarried *versus*\n",
    "married mothers? \n",
    "\n",
    "**Answer:**\n",
    "*Insert your written comments here.*\n",
    "\n",
    "(c) Cocaine or crack use is also a dichotomous random variable;\n",
    "the value 1 indicates that a woman used drugs during her\n",
    "pregnancy and 0 that she did not. \n",
    "What is the estimated odds ratio that a child will be born\n",
    "with congenital syphilis for women who used cocaine or\n",
    "crack *versus* women who did not?\n",
    "\n",
    "**Answer:**\n",
    "*Insert your written comments here.*\n",
    "\n",
    "\n",
    "(d) The estimated slope coefficient for cocaine or crack use\n",
    "has standard error 0.162. Construct a 95\\% confidence\n",
    "interval for the population **odds ratio** using the \n",
    "pivotal method described in the class notes. \n",
    "You will need the critical value 1.96. \n",
    "\n",
    "**Answer:**\n",
    "*Insert your written comments here.*"
   ]
  }
 ],
 "metadata": {},
 "nbformat": 4,
 "nbformat_minor": 0
}
