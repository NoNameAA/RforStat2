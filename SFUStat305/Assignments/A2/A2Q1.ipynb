{
 "cells": [
  {
   "cell_type": "markdown",
   "metadata": {},
   "source": [
    "---\n",
    "title: \"Assignment 2, Question 1\"\n",
    "author: \"Your Name Here; Your Student ID number Here\"\n",
    "date: 'Put date here in YYYY-MM-DD format'\n",
    "output: html_document\n",
    "---"
   ]
  },
  {
   "cell_type": "code",
   "execution_count": null,
   "metadata": {
    "attributes": {
     "classes": [],
     "id": "",
     "include": "FALSE"
    }
   },
   "outputs": [],
   "source": [
    "knitr::opts_chunk$set(echo = TRUE)"
   ]
  },
  {
   "cell_type": "markdown",
   "metadata": {},
   "source": [
    "Chapter 15, #10 but with modification. Survey of Italian physicians on breast cancer. Physicians in different specialties were asked about\n",
    "their recommendations for radical (mastectomy) vs.\n",
    "conservative (lumpectomy) surgery. In particular, \n",
    "would they recommend radical surgery regardless\n",
    "of a patient's age (RR), conservative surgery for \n",
    "younger patients only (CY), or conservative surgery regardless of age (CR)?\n",
    "\n",
    "\n",
    "To answer this question we need a data-frame \n",
    "that contains the results of the survey.  \n",
    "Create one called `survey` with 3 \n",
    "variables `RR`, `CY` and `CR` as follows:"
   ]
  },
  {
   "cell_type": "code",
   "execution_count": null,
   "metadata": {},
   "outputs": [],
   "source": [
    "%%R\n",
    "survey <- data.frame(\n",
    "  RR=c(6,23,2,1,1), \n",
    "  CY=c(22,61,3,12,12), \n",
    "  CR=c(42,127,54,43,31))\n",
    "row.names(survey)<-c(\"Internal\", \"Surgery\", \"Radiotherapy\",\n",
    "              \"Oncology\", \"Gynecology\")\n",
    "survey"
   ]
  },
  {
   "cell_type": "markdown",
   "metadata": {},
   "source": [
    "(a) At the 0.05 level, test the null hypothesis\n",
    "that there is no association between physician\n",
    "specialty and recommended treatment. (Note: Ignore\n",
    "the warning message from R about the chi-squared approximation.)\n",
    "\n",
    "**Answer:**"
   ]
  },
  {
   "cell_type": "code",
   "execution_count": null,
   "metadata": {},
   "outputs": [],
   "source": [
    "%%R\n",
    "# Add your R commands here.  "
   ]
  },
  {
   "cell_type": "markdown",
   "metadata": {},
   "source": [
    "*Insert your written comments here.*\n",
    "\n",
    "(b) Report the expected cell\n",
    "counts in the table under the null hypothesis. Comment on whether the chi-square\n",
    "approximation is reliable for these data.\n",
    "\n",
    "**Answer:**"
   ]
  },
  {
   "cell_type": "code",
   "execution_count": null,
   "metadata": {},
   "outputs": [],
   "source": [
    "%%R\n",
    "# Add your R commands here.  "
   ]
  },
  {
   "cell_type": "markdown",
   "metadata": {},
   "source": [
    "*Insert your written comments here.*\n",
    "\n",
    "\n",
    "(c) What do you conclude?\n",
    "\n",
    "**Answer:**\n",
    "\n",
    "*Insert your written comments here.*"
   ]
  }
 ],
 "metadata": {},
 "nbformat": 4,
 "nbformat_minor": 0
}
