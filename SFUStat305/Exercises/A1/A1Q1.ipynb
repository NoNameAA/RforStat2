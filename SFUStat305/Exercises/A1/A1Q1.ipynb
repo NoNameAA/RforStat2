{
 "cells": [
  {
   "cell_type": "markdown",
   "metadata": {},
   "source": [
    "---\n",
    "title: \"Assignment 1, Question 1\"\n",
    "author: \"Your Name Here; Your Student ID number Here\"\n",
    "date: 'Put date here in YYYY-MM-DD format'\n",
    "output: html_document\n",
    "---"
   ]
  },
  {
   "cell_type": "code",
   "execution_count": null,
   "metadata": {
    "attributes": {
     "classes": [],
     "id": "",
     "include": "FALSE"
    }
   },
   "outputs": [],
   "source": [
    "knitr::opts_chunk$set(echo = TRUE)"
   ]
  },
  {
   "cell_type": "markdown",
   "metadata": {},
   "source": [
    "To answer this question we need a data frame \n",
    "that contains the numbers of hysterectomies for the\n",
    "15 Swiss doctors.\n",
    "We can create a data frame called `hyst` with one \n",
    "variable `numHyster`, as follows:"
   ]
  },
  {
   "cell_type": "code",
   "execution_count": null,
   "metadata": {},
   "outputs": [],
   "source": [
    "%%R\n",
    "hyst <- data.frame(numHyster = c(20,25,25,27,28,31,33,34,\n",
    "                                 36,37,44,50,59,85,86))"
   ]
  },
  {
   "cell_type": "markdown",
   "metadata": {},
   "source": [
    "Notice that I'm cutting-and-pasting from the `ch2-3Demo.Rmd`\n",
    "demo. You\n",
    "will find lots of useful R code in the demos to draw from, with little or no modification.\n",
    "\n",
    "(a) Draw a histogram of the data. Do you see any outliers?\n",
    "\n",
    "**Answer:**"
   ]
  },
  {
   "cell_type": "code",
   "execution_count": null,
   "metadata": {},
   "outputs": [],
   "source": [
    "%%R\n",
    "library(ggplot2)\n",
    "# Add your R commands to draw a histogram here -- the R demos in \n",
    "# the lecture notes should be helpful. Note that the Workshop is\n",
    "# there to help you through assignments, including getting \n",
    "# comfortable with R and statistical thinking; please make use \n",
    "# of this excellent resource. Go early to avoid the last-minute \n",
    "# rush and crashing the servers. Watch out especially for Crowdmark # crashing if you are trying to upload your assignment at the \n",
    "# last minute when there is high volume. The Workshop is not\n",
    "# responsible for late assignments due to server crashes.  "
   ]
  },
  {
   "cell_type": "markdown",
   "metadata": {},
   "source": [
    "*Insert your written comments here about the outliers that you see\n",
    "in the histogram.*\n",
    "\n",
    "(b) Compute the mean, standard deviation, median, 25th\n",
    "percentile and 75th percentile. Comment on the difference\n",
    "between the mean and the median, and the difference \n",
    "between the SD and the IQR.\n",
    "\n",
    "**Answer:**"
   ]
  },
  {
   "cell_type": "code",
   "execution_count": null,
   "metadata": {},
   "outputs": [],
   "source": [
    "%%R\n",
    "library(dplyr)\n",
    "# Add your R commands to do this question here. You can use\n",
    "# the summarize() function as in the demo in ch2-3Demo.Rmd."
   ]
  },
  {
   "cell_type": "markdown",
   "metadata": {},
   "source": [
    "*Add your written comments that interpret the output of the R \n",
    "commands here*"
   ]
  }
 ],
 "metadata": {},
 "nbformat": 4,
 "nbformat_minor": 0
}
