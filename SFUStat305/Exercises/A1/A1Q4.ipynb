{
 "cells": [
  {
   "cell_type": "markdown",
   "metadata": {},
   "source": [
    "---\n",
    "title: \"Assignment 1, Question 4\"\n",
    "author: \"Your Name Here; Your Student ID number Here\"\n",
    "date: 'Put date here in YYYY-MM-DD format'\n",
    "output: html_document\n",
    "---"
   ]
  },
  {
   "cell_type": "code",
   "execution_count": null,
   "metadata": {
    "attributes": {
     "classes": [],
     "id": "",
     "include": "FALSE"
    }
   },
   "outputs": [],
   "source": [
    "knitr::opts_chunk$set(echo = TRUE)"
   ]
  },
  {
   "cell_type": "markdown",
   "metadata": {},
   "source": [
    "Chapter 11, problem 14 with clarified wording. \n",
    "The dataset `lowbwt` contains information\n",
    "for a sample of 100 low birth weight infants born in two \n",
    "teaching hospitals in Boston, MA. Measurements of systolic \n",
    "blood pressure are saved under the variable name `sbp` and\n",
    "indicators of gender -- with 1 respresenting a male and 0 a\n",
    "femaile -- under the name `sex`."
   ]
  },
  {
   "cell_type": "code",
   "execution_count": null,
   "metadata": {},
   "outputs": [],
   "source": [
    "%%R\n",
    "uu<-url(\"http://people.stat.sfu.ca/~jgraham/Teaching/S305_18/Data/lowbwt.txt\")\n",
    "lowbwt <- read.table(uu,header=TRUE)\n",
    "head(lowbwt)"
   ]
  },
  {
   "cell_type": "markdown",
   "metadata": {},
   "source": [
    "(a) Construct a histogram of systolic blood\n",
    "pressure (SBP) with observations **grouped by sex**.\n",
    "Based on the graph, does blood pressure look as though it is \n",
    "approximately normally distributed in each gender?\n",
    "\n",
    "To group by sex, we need to create a categorical variable out\n",
    "of the numeric `sex` variable in the dataset."
   ]
  },
  {
   "cell_type": "code",
   "execution_count": null,
   "metadata": {
    "attributes": {
     "classes": [],
     "fig.height": "3,fig.width=4",
     "id": ""
    }
   },
   "outputs": [],
   "source": [
    "library(dplyr)\n",
    "lowbwt <- mutate(lowbwt,sexCateg = factor(sex))"
   ]
  },
  {
   "cell_type": "markdown",
   "metadata": {},
   "source": [
    "Refer to the example histograms in the `ch11Demo.Rmd` demo\n",
    "to see how to \"fill\" the bars of your histogram \n",
    "with different colours for different values of `sexCateg`.\n",
    "\n",
    "**Answer**"
   ]
  },
  {
   "cell_type": "code",
   "execution_count": null,
   "metadata": {},
   "outputs": [],
   "source": [
    "%%R\n",
    "library(ggplot2)\n",
    "# histogram commands go here"
   ]
  },
  {
   "cell_type": "markdown",
   "metadata": {},
   "source": [
    "*Add your comments on the approximate normality here*\n",
    "\n",
    "(b) Test the null hypothesis that among low-birth-weight infants,\n",
    "the mean systolic blood pressure for boys is equal to the mean \n",
    "for girls. Use a 2-sided test at 0.05 level of significance.\n",
    "What do you conclude?\n",
    "\n",
    "See the `ch11Demo.Rmd` demo for an example two-sample \n",
    "t-test with the `t.test()` function.\n",
    "\n",
    "**Answer**"
   ]
  },
  {
   "cell_type": "code",
   "execution_count": null,
   "metadata": {},
   "outputs": [],
   "source": [
    "%%R\n",
    "# t.test commands go here"
   ]
  },
  {
   "cell_type": "markdown",
   "metadata": {},
   "source": [
    "*Add your comments here on the interpretation of the results \n",
    "from the 2-sample t-test.*"
   ]
  }
 ],
 "metadata": {},
 "nbformat": 4,
 "nbformat_minor": 0
}
