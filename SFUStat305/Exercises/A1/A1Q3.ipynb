{
 "cells": [
  {
   "cell_type": "markdown",
   "metadata": {},
   "source": [
    "---\n",
    "title: \"Assignment 1, Question 3\"\n",
    "author: \"Your Name Here; Your Student ID number Here\"\n",
    "date: 'Put date here in YYYY-MM-DD format'\n",
    "output: html_document\n",
    "---"
   ]
  },
  {
   "cell_type": "code",
   "execution_count": null,
   "metadata": {
    "attributes": {
     "classes": [],
     "id": "",
     "include": "FALSE"
    }
   },
   "outputs": [],
   "source": [
    "knitr::opts_chunk$set(echo = TRUE)"
   ]
  },
  {
   "cell_type": "markdown",
   "metadata": {},
   "source": [
    "Chapter 10, problem 16, but with modification. \n",
    "Specifically, we will use the data on all 143 babies with\n",
    "congenital heart disease rather than just the 70 babies \n",
    "who undergo reparative heart surgery during the first 3 \n",
    "months of life (and so have \"trtment\" variable equal to one).\n",
    "\n",
    "The Bayley Scales of Infant \n",
    "Development yield scores on 2 indices -- the Psychomotor \n",
    "Development Index (PDI) and the Mental Development Index (MDI)\n",
    "-- which can be used to assess a child's level of functioning\n",
    "in each of these areas at approximately one year of age.\n",
    "The Bayley Scales were\n",
    "administered to a sample of one-year-old infants born with\n",
    "congenital heart disease. \n",
    "\n",
    "Before you do parts (a) - (d), draw a histogram of the PDI and\n",
    "MDI scores. The histogram should be handed in with your assignment. \n",
    "\n",
    "\n",
    "**Answer to histogram question**"
   ]
  },
  {
   "cell_type": "code",
   "execution_count": null,
   "metadata": {},
   "outputs": [],
   "source": [
    "%%R\n",
    "uu<-url(\"http://people.stat.sfu.ca/~jgraham/Teaching/S305_18/Data/heart.txt\")\n",
    "heart <- read.table(uu,header=TRUE)\n",
    "head(heart)\n",
    "library(ggplot2)\n",
    "# Put your histogram commands here"
   ]
  },
  {
   "cell_type": "markdown",
   "metadata": {},
   "source": [
    "(a) At the 0.05 level of significance, test the null hypothesis\n",
    "that the mean PDI score for children born with congenital\n",
    "heart disease is equal to 100, the mean score for healthy\n",
    "children. Use a 2-sided test. What is the pvalue? What\n",
    "do you conclude?\n",
    "\n",
    "**Answer** \n",
    "\n",
    "Use the `t-test()` function to perform the test,\n",
    "and then interpret the results."
   ]
  },
  {
   "cell_type": "code",
   "execution_count": null,
   "metadata": {},
   "outputs": [],
   "source": [
    "%%R\n",
    "# t.test commands go here"
   ]
  },
  {
   "cell_type": "markdown",
   "metadata": {},
   "source": [
    "*Add your comments on interpretation here*\n",
    "\n",
    "\n",
    "(b) Conduct the analogous test of hypothesis for the mean MDI\n",
    "score. What do you conclude?\n",
    "\n",
    "**Answer**"
   ]
  },
  {
   "cell_type": "code",
   "execution_count": null,
   "metadata": {},
   "outputs": [],
   "source": [
    "%%R\n",
    "# t.test commands go here"
   ]
  },
  {
   "cell_type": "markdown",
   "metadata": {},
   "source": [
    "*Add your comments on interpretation here*\n",
    "\n",
    "\n",
    "(c) Construct 95\\% CIs for the true mean PDI score\n",
    "and the true mean MDI score for this population of\n",
    "children with congenital heart disease. Does either of\n",
    "these intervals contain the value 100? Would you have\n",
    "expected that they would?\n",
    "\n",
    "**Answer**\n",
    "\n",
    "*Add your interpretation here of the CI results in the t.test( ) output above.*"
   ]
  }
 ],
 "metadata": {},
 "nbformat": 4,
 "nbformat_minor": 0
}
