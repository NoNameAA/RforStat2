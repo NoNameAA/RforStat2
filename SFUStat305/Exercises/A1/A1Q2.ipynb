{
 "cells": [
  {
   "cell_type": "markdown",
   "metadata": {},
   "source": [
    "---\n",
    "title: \"Assignment 1, Question 2\"\n",
    "author: \"Your Name Here; Your Student ID number Here\"\n",
    "date: 'Put date here in YYYY-MM-DD format'\n",
    "output: html_document\n",
    "---"
   ]
  },
  {
   "cell_type": "code",
   "execution_count": null,
   "metadata": {
    "attributes": {
     "classes": [],
     "id": "",
     "include": "FALSE"
    }
   },
   "outputs": [],
   "source": [
    "knitr::opts_chunk$set(echo = TRUE)"
   ]
  },
  {
   "cell_type": "markdown",
   "metadata": {},
   "source": [
    "Chapter 9, problem 12. Questions about serum zinc levels for \n",
    "a sample of 462 males between the ages of 15 and 17 years. The units of measurement for serum zinc level are micrograms per deciliter.\n",
    "\n",
    "Before you do parts (a) - (d), draw a histogram of the data. The histogram should be handed in with your assignment. \n",
    "\n",
    "**Answer to histogram question:**"
   ]
  },
  {
   "cell_type": "code",
   "execution_count": null,
   "metadata": {},
   "outputs": [],
   "source": [
    "%%R\n",
    "uu<-url(\"http://people.stat.sfu.ca/~jgraham/Teaching/S305_18/Data/serzinc.txt\")\n",
    "serzinc <- read.table(uu,header=TRUE)\n",
    "head(serzinc) \n",
    "# Put your histogram commands here; they will show the histogram output."
   ]
  },
  {
   "cell_type": "markdown",
   "metadata": {},
   "source": [
    "(a) Find a 2-sided 95\\% CI for $\\mu$, the true mean \n",
    "serum zinc level for this population of males aged 15-17 years.\n",
    "\n",
    "Note: If you look at the `ch8-10.Rmd` demo, you will\n",
    "see that confidence intervals \n",
    "can be constructed from summary statistics\n",
    "and quantiles (the \"do-it-yourself\" method) or read\n",
    "from the output of the\n",
    "`t.test()` function. You won't \n",
    "get extra marks for do-it-yourself, so you might\n",
    "as well use `t.test()`.\n",
    "\n",
    "**Answer:**"
   ]
  },
  {
   "cell_type": "code",
   "execution_count": null,
   "metadata": {},
   "outputs": [],
   "source": [
    "%%R\n",
    "# Put your R commands here for t.test() to get the 95% CI"
   ]
  },
  {
   "cell_type": "markdown",
   "metadata": {},
   "source": [
    "(b) Interpret this confidence interval \n",
    "\n",
    "**Answer:**\n",
    "\n",
    "*Insert your written comments here about the interpretation of the CI. Use the units of measurement for serum zinc level in your interpretation and phrase it as though you were explaining it to a public health professional at work.* \n",
    "\n",
    "(c) Calculate a 90\\% CI for $\\mu$.\n",
    "\n",
    "**Answer:**"
   ]
  },
  {
   "cell_type": "code",
   "execution_count": null,
   "metadata": {},
   "outputs": [],
   "source": [
    "%%R\n",
    "# Put your R commands here for t.test() to get the 90% CI"
   ]
  },
  {
   "cell_type": "markdown",
   "metadata": {},
   "source": [
    "(d) How does the 90\\% CI compare to the 95\\% CI?\n",
    "\n",
    "**Answer:**\n",
    "\n",
    "*Insert your written comments here about how the two CI's differ.*"
   ]
  }
 ],
 "metadata": {},
 "nbformat": 4,
 "nbformat_minor": 0
}
