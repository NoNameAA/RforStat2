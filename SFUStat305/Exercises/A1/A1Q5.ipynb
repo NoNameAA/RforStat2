{
 "cells": [
  {
   "cell_type": "markdown",
   "metadata": {},
   "source": [
    "---\n",
    "title: \"Assignment 1, Question 5\"\n",
    "author: \"Your Name Here; Your Student ID number Here\"\n",
    "date: 'Put date here in YYYY-MM-DD format'\n",
    "output: html_document\n",
    "---"
   ]
  },
  {
   "cell_type": "code",
   "execution_count": null,
   "metadata": {
    "attributes": {
     "classes": [],
     "id": "",
     "include": "FALSE"
    }
   },
   "outputs": [],
   "source": [
    "knitr::opts_chunk$set(echo = TRUE)"
   ]
  },
  {
   "cell_type": "markdown",
   "metadata": {},
   "source": [
    "a. A survey is given to 100 patients randomly selected from \n",
    "BC residents aged 65 years or more on the waiting list for heart surgery. What is the population? What is the sample?\n",
    "\n",
    "**Answer:**\n",
    "*Insert your answer here. Your response should be short; e.g. a couple of sentences at most. *\n",
    "\n",
    "b. Fifty batches of vaccine for diphtheria, tetanus, and pertussis were randomly selected from the set of all batches produced by a large national pharmaceutical company in 2017. What are the fifty batches called; how about the set of all batches? \n",
    "\n",
    "**Answer:**  *Insert your answer here. Your response should be short (e.g. two words).*\n",
    "\n",
    "c. Choose one: A mean is a statistic if it is computed from the (1) parameter, (2) population, (3) sample.\n",
    "\n",
    "**Answer:** *Insert your answer here. Your response can be one word.*\n",
    "\n",
    "d. Choose one: A mean could be (1) a parameter only, (2) a statistic only, (3) a parameter or a statistic.\n",
    "\n",
    "**Answer:** *Insert your answer here. Your response can be one word.*\n",
    "\n",
    "e. Choose one: An SD is a parameter if it is computed from the (1) statistic, (2) population, (3) sample.\n",
    "\n",
    "**Answer:** *Insert your answer here. Your response can be one word.*\n",
    "\n",
    "f. Choose all that apply: Hypotheses are written in terms of (1) statistics, (2) parameters \n",
    "\n",
    "**Answer:** *Insert your answer here. Your response can be short, just the words that apply.*\n",
    " \n",
    "g. Choose all that apply: \n",
    "    + 1. We use statistics such as the sample mean to assess the evidence in a sample for statistical hypotheses.\n",
    "    + 2. Statistical hypotheses ask questions about sample quantities known as statistics.\n",
    "    + 3. Statistical hypotheses ask questions about population quantities known as parameters.\n",
    "\n",
    "**Answer:** *Insert your answer here. Your response can be short, just the numbers of the options that apply.*  \n",
    "    \n",
    "h. Choose all that apply: The difference between $s$ and $\\sigma$ in the class notes is that\n",
    "    1. $s$ is for a sample and $\\sigma$ is for a population, \n",
    "    2. $s$ is for a population and $\\sigma$ is for a sample.\n",
    "    3. $s$ is a parameter and $\\sigma$ is not\n",
    "    4. $s$ is a statistic and $\\sigma$ is a parameter\n",
    "\n",
    "**Answer:** *Insert your answer here. Your response can be short, just the numbers of the options that apply.*  \n",
    "    \n",
    "i. Choose all that apply: \n",
    "    1. s and $\\sigma$ are statistics.\n",
    "    2. $\\mu$ and $\\sigma$ are statistics\n",
    "    3. $\\mu$ and $s$ are parameters\n",
    "    4. $\\bar{x}$ and $s$ are statistics\n",
    "    5. $\\mu$ and $\\sigma$ are parameters\n",
    "    6. $\\bar{x}$ and $s$ are parameters\n",
    "    \n",
    "**Answer:** *Insert your answer here. Your response can be short, just the numbers of the options that apply.*"
   ]
  }
 ],
 "metadata": {},
 "nbformat": 4,
 "nbformat_minor": 0
}
