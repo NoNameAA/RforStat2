{
 "cells": [
  {
   "cell_type": "markdown",
   "metadata": {},
   "source": [
    "---\n",
    "title: \"Assignment 2, Question 3\"\n",
    "author: \"Your Name Here; Your Student ID number Here\"\n",
    "date: 'Put date here in YYYY-MM-DD format'\n",
    "output: html_document\n",
    "---"
   ]
  },
  {
   "cell_type": "code",
   "execution_count": null,
   "metadata": {
    "attributes": {
     "classes": [],
     "id": "",
     "include": "FALSE"
    }
   },
   "outputs": [],
   "source": [
    "knitr::opts_chunk$set(echo = TRUE)"
   ]
  },
  {
   "cell_type": "markdown",
   "metadata": {},
   "source": [
    "Chapter 15, #18. Alcohol and miscarriages. A study investigating the association between spontaneous abortion (miscarriage) and alcohol consumption obtained the following\n",
    "data:\n",
    "\n",
    "<table cellpadding=\"10\">\n",
    "<tr> \n",
    " <td> <b>drinks/week</b> &nbsp; </td>\n",
    " <td> <b>pregnancies</b> &nbsp; </td>\n",
    " <td> <b>miscarriages</b> &nbsp; </td>\n",
    "</tr>\n",
    "<tr> \n",
    " <td> &nbsp; 0 &nbsp; </td>\n",
    " <td> &nbsp; 33164 &nbsp; </td>\n",
    " <td> &nbsp; 6793 &nbsp; </td>\n",
    "</tr>\n",
    "<tr> \n",
    " <td> &nbsp; 1-2 &nbsp; </td>\n",
    " <td> &nbsp; 9099 &nbsp; </td>\n",
    " <td> &nbsp; 2068 &nbsp; </td>\n",
    "</tr>\n",
    "<tr> \n",
    " <td> &nbsp; 3-6 &nbsp; </td>\n",
    " <td> &nbsp; 3069 &nbsp; </td>\n",
    " <td>  &nbsp; 776 &nbsp; </td>\n",
    "</tr>\n",
    "<tr> \n",
    " <td> &nbsp; 7-20 &nbsp; </td>\n",
    " <td> &nbsp; 1527 &nbsp; </td>\n",
    " <td>  &nbsp; 456 &nbsp; </td>\n",
    "</tr>\n",
    "<tr> \n",
    " <td> &nbsp; 21+ &nbsp; </td>\n",
    " <td> &nbsp; 287 &nbsp; </td>\n",
    " <td> &nbsp; 98 &nbsp; </td>\n",
    "</tr>\n",
    "</table>\n",
    "<p>\n",
    "\n",
    "For parts a-d below, you may **modify** this R code chunk as necessary (and then run it) if you find it helpful."
   ]
  },
  {
   "cell_type": "code",
   "execution_count": null,
   "metadata": {
    "attributes": {
     "classes": [],
     "id": "",
     "message": "FALSE,",
     "warning": "FALSE"
    }
   },
   "outputs": [],
   "source": [
    "mydf <- data.frame(group=c(\"0\", \"1-2\", \"3-6\", \"7-20\", \"21+\"),\n",
    "                   preg=c(33164,9099,3069,1527,287),\n",
    "                   mis=c(6793,2068,776,456,98))\n",
    "\n",
    "library(dplyr)\n",
    "mydf <- mutate(mydf,ok=preg-mis, prmis = mis/preg, odds = (prmis/(1-prmis)))\n",
    "odds0 <- mydf[mydf$group==\"0\",\"odds\"]\n",
    "c <- mydf[mydf$group==\"0\",\"mis\"]\n",
    "d <- mydf[mydf$group==\"0\",\"ok\"]\n",
    "mydf <- mutate(mydf, OR=odds/odds0, se.logOR = sqrt(1/mis + 1/ok + 1/c + 1/d))\n",
    "lev <- 0.80 #confidence level or coverage probability\n",
    "critval <- qnorm( (1-lev)/2, lower.tail=FALSE)\n",
    "mydf <- mutate(mydf, \n",
    "lowerCI = exp(log(OR) - critval*se.logOR), \n",
    "upperCI = exp(log(OR) + critval*se.logOR))\n",
    "mydf <- mutate(mydf, \n",
    "prmis=round(prmis,3), odds=round(odds,3), \n",
    "OR=round(OR,3), se.logOR=round(se.logOR,3),\n",
    "lowerCI=round(lowerCI,3), upperCI=round(upperCI,3))\n",
    "mydf[mydf$group==\"0\",c(\"se.logOR\", \"lowerCI\", \"upperCI\")] <- c(NA, NA, NA)\n",
    "mydf"
   ]
  },
  {
   "cell_type": "markdown",
   "metadata": {},
   "source": [
    "(a) For each level of alcohol consumption, estimate\n",
    "the probability that a woman who becomes pregnant\n",
    "will have a miscarriage.\n",
    "\n",
    "**Answer:**\n",
    "\n",
    "*Insert your written comments here.*\n",
    "\n",
    "(b) For each category of alcohol use, estimate the\n",
    "relative odds of miscarriage \n",
    "for women who consume some amount of alcohol versus\n",
    "those who do not consume any. \n",
    "\n",
    "**Answer:**\n",
    "\n",
    "*Insert your written comments here.*\n",
    "\n",
    "(c) In each case, calculate a 95\\% confidence \n",
    "interval for the odds ratio\n",
    "\n",
    "**Answer:**\n",
    "\n",
    "*Insert your written comments here.*\n",
    "\n",
    "(d) What do you conclude? Do the data suggest a dose-response \n",
    "relationship between alcohol use and the odds of miscarriage?\n",
    "\n",
    "**Answer:**\n",
    "\n",
    "*Insert your written comments here.*"
   ]
  }
 ],
 "metadata": {},
 "nbformat": 4,
 "nbformat_minor": 0
}
