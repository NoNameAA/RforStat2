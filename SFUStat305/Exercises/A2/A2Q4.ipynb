{
 "cells": [
  {
   "cell_type": "markdown",
   "metadata": {},
   "source": [
    "---\n",
    "title: \"Assignment 2, Question 4\"\n",
    "author: \"Your Name Here; Your Student ID number Here\"\n",
    "date: 'Put date here in YYYY-MM-DD format'\n",
    "output: html_document\n",
    "---"
   ]
  },
  {
   "cell_type": "code",
   "execution_count": null,
   "metadata": {
    "attributes": {
     "classes": [],
     "id": "",
     "include": "FALSE"
    }
   },
   "outputs": [],
   "source": [
    "knitr::opts_chunk$set(echo = TRUE)"
   ]
  },
  {
   "cell_type": "markdown",
   "metadata": {},
   "source": [
    "Chapter 15, #21, with modification. Beer-drinking questionnaires. Two different questionnaires addressing drinking habits\n",
    "were administered to the same set of men and women aged 50-65 years from a certain community. The first questionnaire format concerned\n",
    "general diet and lifestyle while the second format specifically targeted alcohol use. For each questionnaire, the responses were processed to classify a respondent as either a non-drinker or drinker of beer.  Categories for the general questionnaire are saved under the variable `genques` and those for the questionnaire targeting alcohol use are saved under the variable `alcques`.\n",
    "The data are available as a plain text file; see the R code below for accessing it."
   ]
  },
  {
   "cell_type": "code",
   "execution_count": null,
   "metadata": {},
   "outputs": [],
   "source": [
    "%%R\n",
    "uu<-url(\"http://people.stat.sfu.ca/~jgraham/Teaching/S305_18/Data/alcohol.txt\")\n",
    "alc <- read.table(uu,header=TRUE)\n",
    "head(alc) "
   ]
  },
  {
   "cell_type": "markdown",
   "metadata": {},
   "source": [
    "a) Are the drinking statuses on the two different types of questionnaires associated? Use a 5\\% level in your test. What do you conclude?\n",
    "\n",
    "\n",
    "**Answer:**"
   ]
  },
  {
   "cell_type": "code",
   "execution_count": null,
   "metadata": {},
   "outputs": [],
   "source": [
    "%%R\n",
    "# Put your R commands here."
   ]
  },
  {
   "cell_type": "markdown",
   "metadata": {},
   "source": [
    "*Insert your written comments here.*\n",
    "\n",
    "b) Is the type of questionnaire associated with drinking status? Use a 5\\% level and continuity correction in your test. What do you conclude?\n",
    "\n",
    "**Answer:**"
   ]
  },
  {
   "cell_type": "code",
   "execution_count": null,
   "metadata": {},
   "outputs": [],
   "source": [
    "%%R\n",
    "# Put your R commands here."
   ]
  },
  {
   "cell_type": "markdown",
   "metadata": {},
   "source": [
    "*Insert your written comments here.*"
   ]
  }
 ],
 "metadata": {},
 "nbformat": 4,
 "nbformat_minor": 0
}
